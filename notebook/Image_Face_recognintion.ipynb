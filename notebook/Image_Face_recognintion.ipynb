{
 "cells": [
  {
   "cell_type": "code",
   "execution_count": 1,
   "metadata": {},
   "outputs": [
    {
     "name": "stdout",
     "output_type": "stream",
     "text": [
      "WARNING:tensorflow:From c:\\Users\\liulj\\Desktop\\Intern-KFT\\KAVAS\\Face-Recognition-and-Tracking\\.venv\\Lib\\site-packages\\tf_keras\\src\\losses.py:2976: The name tf.losses.sparse_softmax_cross_entropy is deprecated. Please use tf.compat.v1.losses.sparse_softmax_cross_entropy instead.\n",
      "\n"
     ]
    }
   ],
   "source": [
    "import os\n",
    "import numpy as np\n",
    "import cv2\n",
    "import psycopg2\n",
    "from deepface import DeepFace\n",
    "from mtcnn import MTCNN\n",
    "from dotenv import load_dotenv\n",
    "import uuid\n",
    "import json\n",
    "\n",
    "# Load environment variables\n",
    "load_dotenv(\"../.env\")\n",
    "DB_HOST = os.getenv(\"DB_HOST\")\n",
    "DB_NAME = os.getenv(\"DB_NAME\")\n",
    "DB_USER = os.getenv(\"DB_USER\")\n",
    "DB_PASSWORD = os.getenv(\"DB_PASSWORD\")\n",
    "DB_PORT = os.getenv(\"DB_PORT\")\n"
   ]
  },
  {
   "cell_type": "code",
   "execution_count": 3,
   "metadata": {},
   "outputs": [],
   "source": [
    "# Connect to PostgreSQL database\n",
    "def connect_db():\n",
    "    try:\n",
    "        conn = psycopg2.connect(\n",
    "            host=DB_HOST,\n",
    "            dbname=DB_NAME,\n",
    "            user=DB_USER,\n",
    "            password=DB_PASSWORD,\n",
    "            port=DB_PORT\n",
    "        )\n",
    "        return conn\n",
    "    except Exception as e:\n",
    "        print(\"Error connecting to database:\", e)\n",
    "        return None\n",
    "\n",
    "# Fetch stored face embeddings from the database\n",
    "def get_stored_faces():\n",
    "    conn = connect_db()\n",
    "    if conn is None:\n",
    "        return []\n",
    "    cursor = conn.cursor()\n",
    "    cursor.execute(\"SELECT id, name, embedding FROM face_embeddings\")\n",
    "    faces = cursor.fetchall()\n",
    "    cursor.close()\n",
    "    conn.close()\n",
    "    return [(str(face[0]), face[1], np.array(face[2])) for face in faces]\n",
    "\n",
    "# Store a new face embedding in the database\n",
    "def store_new_face(name, embedding):\n",
    "    conn = connect_db()\n",
    "    if conn is None:\n",
    "        return\n",
    "    cursor = conn.cursor()\n",
    "    user_id = uuid.uuid4()\n",
    "    query = \"INSERT INTO face_embeddings (id, name, embedding) VALUES (%s, %s, %s)\"\n",
    "    cursor.execute(query, (str(user_id), name, embedding.tolist()))\n",
    "    conn.commit()\n",
    "    cursor.close()\n",
    "    conn.close()\n",
    "    print(f\"New user {name} stored with ID {user_id}\")\n",
    "\n",
    "# Extract face from frame using MTCNN\n",
    "def extract_face(frame):\n",
    "    detector = MTCNN()\n",
    "    faces = detector.detect_faces(frame)\n",
    "    if len(faces) == 0:\n",
    "        return None\n",
    "    x, y, width, height = faces[0]['box']\n",
    "    x, y = abs(x), abs(y)\n",
    "    face = frame[y:y+height, x:x+width]\n",
    "    face = cv2.resize(face, (160, 160))\n",
    "    return face\n",
    "\n",
    "# Recognize face in the given frame\n",
    "def recognize_face(frame):\n",
    "    face = extract_face(frame)\n",
    "    if face is None:\n",
    "        print(\"No face detected!\")\n",
    "        return None, None\n",
    "    try:\n",
    "        # Use the image array with the \"img\" parameter\n",
    "        result = DeepFace.represent(img_path=face, model_name=\"Facenet\", enforce_detection=False)\n",
    "        embedding = result[0]['embedding']\n",
    "    except Exception as e:\n",
    "        print(\"Error during face embedding:\", e)\n",
    "        return None, None\n",
    "\n",
    "    stored_faces = get_stored_faces()\n",
    "    recognized_name = None\n",
    "    threshold = 0.6  # Matching threshold\n",
    "    for user_id, name, stored_embedding in stored_faces:\n",
    "        distance = np.linalg.norm(np.array(embedding) - stored_embedding)\n",
    "        if distance < threshold:\n",
    "            recognized_name = name\n",
    "            break\n",
    "\n",
    "    # If a match is found, no need to register a new user; otherwise, return the embedding for registration\n",
    "    if recognized_name:\n",
    "        return recognized_name, None\n",
    "    else:\n",
    "        return None, np.array(embedding)\n",
    "\n",
    "# Process an image for recognition and optionally register a new user\n",
    "def image_recognition(image_path):\n",
    "    frame = cv2.imread(image_path)\n",
    "    if frame is None:\n",
    "        print(\"Error loading image!\")\n",
    "        return\n",
    "    # Convert the frame to RGB for proper face detection\n",
    "    frame_rgb = cv2.cvtColor(frame, cv2.COLOR_BGR2RGB)\n",
    "    name, new_embedding = recognize_face(frame_rgb)\n",
    "    \n",
    "    if name:\n",
    "        print(f\"Hello, {name}! Welcome back!\")\n",
    "    elif new_embedding is not None:\n",
    "        new_name = input(\"New user detected. Please enter your name: \")\n",
    "        store_new_face(new_name, new_embedding)\n",
    "        print(f\"Welcome, {new_name}! You have been registered.\")\n",
    "    else:\n",
    "        print(\"No face recognized or detected.\")\n",
    "\n",
    "    cv2.imshow(\"Face Recognition\", frame)\n",
    "    cv2.waitKey(0)\n",
    "    cv2.destroyAllWindows()\n",
    "\n"
   ]
  },
  {
   "cell_type": "code",
   "execution_count": 6,
   "metadata": {},
   "outputs": [
    {
     "name": "stdout",
     "output_type": "stream",
     "text": [
      "Hello, Marie! Welcome back!\n"
     ]
    }
   ],
   "source": [
    "image_path= '../data/faces/Marie.jpg'\n",
    "image_recognition(image_path)"
   ]
  },
  {
   "cell_type": "code",
   "execution_count": null,
   "metadata": {},
   "outputs": [],
   "source": []
  }
 ],
 "metadata": {
  "kernelspec": {
   "display_name": ".venv",
   "language": "python",
   "name": "python3"
  },
  "language_info": {
   "codemirror_mode": {
    "name": "ipython",
    "version": 3
   },
   "file_extension": ".py",
   "mimetype": "text/x-python",
   "name": "python",
   "nbconvert_exporter": "python",
   "pygments_lexer": "ipython3",
   "version": "3.11.9"
  }
 },
 "nbformat": 4,
 "nbformat_minor": 2
}
